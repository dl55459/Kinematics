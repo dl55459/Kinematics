{
 "cells": [
  {
   "cell_type": "code",
   "execution_count": null,
   "id": "abca0f2e",
   "metadata": {},
   "outputs": [],
   "source": [
    "import sympy as sp\n",
    "\n",
    "x, y, z, r1, r2, r3, r4, r5, r6, r7, r8, r9 = sp.symbols(\"x y z r1 r2 r3 r4 r5 r6 r7 r8 r9\", real=True)"
   ]
  },
  {
   "cell_type": "code",
   "execution_count": null,
   "id": "51d9ffcc",
   "metadata": {},
   "outputs": [],
   "source": [
    "BaseMotor_T = sp.Matrix([\n",
    "    [x],\n",
    "    [y],\n",
    "    [z]\n",
    "])\n",
    "BaseMotor_R = sp.Matrix([\n",
    "    [r1, r2, r3],\n",
    "    [r4, r5, r6],\n",
    "    [r7, r8, r9]\n",
    "])\n",
    "PitchMotor_T = sp.Matrix([\n",
    "    [1],\n",
    "    [0],\n",
    "    [0]\n",
    "])\n",
    "PitchMotor_R = sp.Matrix([\n",
    "    [1, 0, 0],\n",
    "    [0, 1, 0],\n",
    "    [0, 0, 1]\n",
    "])\n",
    "EndMotor_T = sp.Matrix([\n",
    "    [1],\n",
    "    [0],\n",
    "    [0]\n",
    "])\n",
    "EndMotor_R = sp.Matrix([\n",
    "    [1, 0, 0],\n",
    "    [0, 1, 0],\n",
    "    [0, 0, 1]\n",
    "])\n",
    "Expanded = sp.Matrix([\n",
    "    [0, 0, 0, 1]\n",
    "])"
   ]
  },
  {
   "cell_type": "code",
   "execution_count": null,
   "id": "640328a2",
   "metadata": {},
   "outputs": [],
   "source": [
    "# Step 1: Horizontally stack R and T to form the top 3 rows\n",
    "Top = BaseMotor_R.row_join(BaseMotor_T)\n",
    "\n",
    "# Step 2: Vertically stack Top and Expanded to form the 4x4 matrix\n",
    "Homogeneous_Matrix = Top.col_join(Expanded)\n",
    "\n",
    "# Display the result\n",
    "sp.pprint(Homogeneous_Matrix)"
   ]
  }
 ],
 "metadata": {
  "language_info": {
   "name": "python"
  }
 },
 "nbformat": 4,
 "nbformat_minor": 5
}
